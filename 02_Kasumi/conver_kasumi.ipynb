{
 "cells": [
  {
   "cell_type": "code",
   "execution_count": 39,
   "id": "9fd651da-a652-4022-b741-a7b9ca28f7db",
   "metadata": {
    "tags": []
   },
   "outputs": [
    {
     "name": "stdout",
     "output_type": "stream",
     "text": [
      "df:         ID              商品名          生産者名 産地（都道府県）  入数    規格 JANコード 掲載単価  月曜  \\\n",
      "6   19240  小松菜15 & ほうれん草20     株式会社ふしちゃん      つくば   1  1ケース               0   \n",
      "9   11539        有機JASパクチー  株式会社ユニオンファーム      小美玉  10   30g               0   \n",
      "10  17613          有機JAS春菊  株式会社ユニオンファーム      小美玉  10  100g               0   \n",
      "20  18654  ミニトマト（ほれまる）150g        かわかみ農園      つくば  10  150g               0   \n",
      "21  18656    カラフルミニトマト150g        かわかみ農園      つくば  10  150g               0   \n",
      "\n",
      "    火曜  水曜  木曜  金曜  土曜  日曜    \n",
      "6    0   0   0   1   0   0    \n",
      "9    0   1   0   0   0   0    \n",
      "10   0   0   0   1   0   0    \n",
      "20   0   1   0   1   0   0    \n",
      "21   0   1   0   1   0   0    \n"
     ]
    }
   ],
   "source": [
    "import pandas as pd\n",
    "import openpyxl\n",
    "import datetime\n",
    "import copy\n",
    "\n",
    "export_file_name = 'midorino_final'  # * 出力ファイル名\n",
    "days_list = {\n",
    "    '月曜': '2/27',\n",
    "    '火曜': '2/28',\n",
    "    '水曜': '3/1',\n",
    "    '木曜': '3/2',\n",
    "    '金曜': '3/3',\n",
    "    '土曜': '3/4',\n",
    "    '日曜': '3/5',\n",
    "}\n",
    "\n",
    "df = pd.read_csv('./midorino_0227.csv', header=0, sep=',')\n",
    "df = df.fillna(0)\n",
    "df[['月曜', '火曜', '水曜', '木曜', '金曜', '土曜', '日曜']] = df[['月曜', '火曜', '水曜', '木曜', '金曜', '土曜', '日曜']].astype('int')\n",
    "df = df.loc[~((df['月曜'] == 0 ) & (df['火曜'] == 0 ) & (df['水曜'] == 0 ) & (df['木曜'] == 0 ) & (df['金曜'] == 0 ) & (df['土曜'] == 0 ) & (df['日曜'] == 0 ))]\n",
    "# lf = df.loc[~((df['ID'] == 18654) | (df['ID'] == 18656))]\n",
    "df = df[['ID', '品目（量目は目安です）', '出荷元（生産者）', '生産地', 'ロット', '商品入数', '単位', '月曜', '火曜', '水曜', '木曜', '金曜', '土曜', '日曜']]\n",
    "df = df.rename(columns={'品目（量目は目安です）': '商品名', '出荷元（生産者）': '生産者名', '生産地': '産地（都道府県）', 'ロット': '入数'})\n",
    "df.insert(7, 'JANコード', '')\n",
    "df.insert(8, '掲載単価', '')\n",
    "df[['ID', '入数', '商品入数']] = df[['ID', '入数', '商品入数']].astype('int')\n",
    "df['商品入数'] = df['商品入数'].apply(str)\n",
    "\n",
    "df['規格'] = df['商品入数'].str.cat(df['単位'])\n",
    "\n",
    "df = df.drop(['商品入数', '単位'], axis=1)\n",
    "df[''] = ''\n",
    "col = df.pop('規格')\n",
    "df.insert(loc=5, column='規格', value=col)\n",
    "print('df: ', df.head(10))\n",
    "df = df.rename(columns=days_list)\n",
    "df.to_excel(f'./{export_file_name}.xlsx', index=False)\n",
    "\n",
    "file = f'./{export_file_name}.xlsx'\n",
    "wb = openpyxl.load_workbook(file)\n",
    "ws = wb['Sheet1']\n",
    "ws.insert_cols(9, 2)\n",
    "ws.insert_rows(0, 3)\n",
    "wb.save(file)\n"
   ]
  },
  {
   "cell_type": "code",
   "execution_count": null,
   "id": "a08a2d8e-4349-4447-a39e-fbeea0da40c8",
   "metadata": {},
   "outputs": [],
   "source": []
  }
 ],
 "metadata": {
  "kernelspec": {
   "display_name": "Python 3 (ipykernel)",
   "language": "python",
   "name": "python3"
  },
  "language_info": {
   "codemirror_mode": {
    "name": "ipython",
    "version": 3
   },
   "file_extension": ".py",
   "mimetype": "text/x-python",
   "name": "python",
   "nbconvert_exporter": "python",
   "pygments_lexer": "ipython3",
   "version": "3.10.9"
  }
 },
 "nbformat": 4,
 "nbformat_minor": 5
}
